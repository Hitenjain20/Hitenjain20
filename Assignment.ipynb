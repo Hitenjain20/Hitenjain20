{
  "nbformat": 4,
  "nbformat_minor": 0,
  "metadata": {
    "colab": {
      "name": "Assignment.ipynb",
      "provenance": [],
      "collapsed_sections": [],
      "include_colab_link": true
    },
    "kernelspec": {
      "name": "python3",
      "display_name": "Python 3"
    },
    "accelerator": "GPU"
  },
  "cells": [
    {
      "cell_type": "markdown",
      "metadata": {
        "id": "view-in-github",
        "colab_type": "text"
      },
      "source": [
        "<a href=\"https://colab.research.google.com/github/Hitenjain20/Hitenjain20/blob/main/Assignment.ipynb\" target=\"_parent\"><img src=\"https://colab.research.google.com/assets/colab-badge.svg\" alt=\"Open In Colab\"/></a>"
      ]
    },
    {
      "cell_type": "code",
      "source": [
        "pip install sewar"
      ],
      "metadata": {
        "id": "C1bJh1n1MZ7w"
      },
      "execution_count": null,
      "outputs": []
    },
    {
      "cell_type": "code",
      "source": [
        "#importing the dependencies\n",
        "\n",
        "import cv2\n",
        "import numpy as np\n",
        "from sewar import full_ref\n",
        "from skimage import measure, metrics\n",
        "from google.colab import drive"
      ],
      "metadata": {
        "id": "qLG0jkSt5XD4"
      },
      "execution_count": 3,
      "outputs": []
    },
    {
      "cell_type": "code",
      "source": [
        "#Mounting  the google drive so that I can use the resourses directly\n",
        "\n",
        "drive.mount(\"/content/drive\")"
      ],
      "metadata": {
        "colab": {
          "base_uri": "https://localhost:8080/"
        },
        "id": "gGaZ1jZD5i-_",
        "outputId": "9e66acc3-cb60-4429-8692-ca219819465c"
      },
      "execution_count": 4,
      "outputs": [
        {
          "output_type": "stream",
          "name": "stdout",
          "text": [
            "Mounted at /content/drive\n"
          ]
        }
      ]
    },
    {
      "cell_type": "code",
      "source": [
        "#Refrence based image quality assessment \n",
        "#Reading both images using cv2\n",
        "\n",
        "ref_img = cv2.imread(\"/content/drive/MyDrive/Assignment/sandstone.tif\", 1) #Image using as a reference to get the score of low quality image\n",
        "img = cv2.imread(\"/content/drive/MyDrive/Assignment/sandstone_blur_2sigma.tif\", 1) #low quality image, to get score with refrence to other image "
      ],
      "metadata": {
        "id": "sJlvtNNE5qAt"
      },
      "execution_count": 5,
      "outputs": []
    },
    {
      "cell_type": "code",
      "source": [
        "#Mean squared error between refrence image and the image \n",
        "\n",
        "mse_skimg = metrics.mean_squared_error(ref_img, img)\n",
        "print(\"MSE: based on scikit-image = \", mse_skimg)"
      ],
      "metadata": {
        "colab": {
          "base_uri": "https://localhost:8080/"
        },
        "id": "vkySmEcJ6GB6",
        "outputId": "49c34426-5d84-480a-e5ea-f17589ab17ce"
      },
      "execution_count": 6,
      "outputs": [
        {
          "output_type": "stream",
          "name": "stdout",
          "text": [
            "MSE: based on scikit-image =  170.83926291047953\n"
          ]
        }
      ]
    },
    {
      "cell_type": "code",
      "source": [
        "#Peak to signal noise ratio\n",
        "#Ratio between maximum possible power of image to power of curropting noise that affects quality of its representation\n",
        "psnr_skimg = metrics.peak_signal_noise_ratio(ref_img, img, data_range=None)\n",
        "print(\"PSNR: based on scikit-image = \", psnr_skimg)"
      ],
      "metadata": {
        "colab": {
          "base_uri": "https://localhost:8080/"
        },
        "id": "PT3MZ1J56M6X",
        "outputId": "e979dc02-1e11-4f3b-b64b-e3243d1c3d4e"
      },
      "execution_count": 7,
      "outputs": [
        {
          "output_type": "stream",
          "name": "stdout",
          "text": [
            "PSNR: based on scikit-image =  25.80492671881574\n"
          ]
        }
      ]
    },
    {
      "cell_type": "code",
      "source": [
        "#Universal image quality index\n",
        "\n",
        "\"\"\"\n",
        "calculates universal image quality index (uqi).\n",
        "\t:param GT: first (original) input image.\n",
        "\t:param P: second (deformed) input image.\n",
        "\t:param ws: sliding window size (default = 8).\n",
        "\t:returns:  float -- uqi value.\n",
        "\n",
        "\t\"\"\"\n",
        "\n",
        "UQI_img = full_ref.uqi(ref_img, img, ws=8)\n",
        "print(\"UQI: universal image quality index = \", UQI_img)"
      ],
      "metadata": {
        "colab": {
          "base_uri": "https://localhost:8080/"
        },
        "id": "LdjuqGdy8Mqi",
        "outputId": "8d3f9e00-9e4f-40d0-e484-da16f0fb4dea"
      },
      "execution_count": 8,
      "outputs": [
        {
          "output_type": "stream",
          "name": "stdout",
          "text": [
            "UQI: universal image quality index =  0.9892148366610988\n"
          ]
        }
      ]
    },
    {
      "cell_type": "code",
      "source": [
        "#Structural similarity index\n",
        "\"\"\"\n",
        "calculates structural similarity index (ssim).\n",
        "\t:param GT: first (original) input image.\n",
        "\t:param P: second (deformed) input image.\n",
        "\t:param ws: sliding window size (default = 8).\n",
        "\t:param K1: First constant for SSIM (default = 0.01).\n",
        "\t:param K2: Second constant for SSIM (default = 0.03).\n",
        "\t:param MAX: Maximum value of datarange (if None, MAX is calculated using image dtype).\n",
        "\t:returns:  tuple -- ssim value, cs value.\n",
        "\t\"\"\"\n",
        "\n",
        "ssim_img = full_ref.ssim(ref_img, img, ws=11, K1=0.01, K2=0.03, MAX=None, fltr_specs=None, mode='valid')\n",
        "print(\"SSIM: structural similarity index = \", ssim_img)"
      ],
      "metadata": {
        "colab": {
          "base_uri": "https://localhost:8080/"
        },
        "id": "TLje7-DYOyNv",
        "outputId": "9d3570f6-caac-4a97-8c5c-60a4998cc9d6"
      },
      "execution_count": 9,
      "outputs": [
        {
          "output_type": "stream",
          "name": "stdout",
          "text": [
            "SSIM: structural similarity index =  (0.7221593484301166, 0.7224356503602157)\n"
          ]
        }
      ]
    },
    {
      "cell_type": "markdown",
      "source": [
        "Ans1.There are basically 4 types of ratings namely : Pairwise comparison, Setwise comparison, Similarity judgment and Free clustering.\n",
        "\n",
        "Pairwise comparison = take a pair of same image with different quality and the comparison both of them is a pairwise comparison.\n",
        "\n",
        "Setwise comparison = This is basically rank the image based on their quality.\n",
        "\n",
        "Similarity judgement = This is basically rating the quality of the pair of same images.\n",
        "\n",
        "Free clustering = As the name suggests, this basically a cluster of every other type of rating.\n",
        "\n",
        "And also yes we can combine every other type of ranking and that ranking is called \"Free clustering\"> This just cluster every image of same quality.\n",
        "\n",
        "We can simply use diifferent types of clutering algorithms like K-means clustering and use them to make a cluster of same quality of image. "
      ],
      "metadata": {
        "id": "pDQsxxVJBn7y"
      }
    },
    {
      "cell_type": "markdown",
      "source": [
        "Ans 2.I have tried many other methods and many other techniques like using brisque or by implementing it using pytorch. By Using Sewar module and scikit image is much more easier than the others because many matrices are already implemented in then, so It makes things much more easier and efficent.\n",
        "\n",
        "Also I learn all these things from many blogs, research paper and some youtube channel also;\n",
        "\n",
        "Youtube : https://www.youtube.com/playlist?list=PLHae9ggVvqPgyRQQOtENr6hK0m1UquGaG\n",
        "\n",
        "Blog : https://towardsdatascience.com/deep-image-quality-assessment-30ad71641fac\n",
        "\n",
        "Blog 2: https://towardsdatascience.com/deep-image-quality-assessment-with-tensorflow-2-0-69ed8c32f195\n",
        "\n",
        "Sewar : https://pypi.org/project/sewar/\n",
        "\n",
        "Research Paper: https://arxiv.org/abs/2204.08958"
      ],
      "metadata": {
        "id": "j_09BB6D97dd"
      }
    },
    {
      "cell_type": "markdown",
      "source": [
        "Ans3.Yes I tried to use a new module called IQA-pytorch but because of less time and low resourses, I use Sewar and SCIKIT-image "
      ],
      "metadata": {
        "id": "fmWMda92_KpL"
      }
    }
  ]
}